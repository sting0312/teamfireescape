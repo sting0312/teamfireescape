{
 "cells": [
  {
   "cell_type": "markdown",
   "metadata": {},
   "source": [
    "Group 9 Project \n",
    "Riley Fritz, Sofanit Habte, Robert Boulka\n",
    "Loading transformed Data from 2019 reported fires in the city of Minneapolis"
   ]
  },
  {
   "cell_type": "code",
   "execution_count": null,
   "metadata": {},
   "outputs": [],
   "source": [
    "#importing dependencies\n",
    "import pandas as pd\n",
    "from sqlalchemy import create_engine\n",
    "from config import password"
   ]
  },
  {
   "cell_type": "code",
   "execution_count": null,
   "metadata": {},
   "outputs": [],
   "source": [
    "#making connection to SQL database\n",
    "rds_connection_string = \"postgres:{password}@localhost:5432/fire_db\"\n",
    "engine = create_engine(f'postgresql://{rds_connection_string}')"
   ]
  },
  {
   "cell_type": "code",
   "execution_count": null,
   "metadata": {},
   "outputs": [],
   "source": [
    "conn = engine.connect()"
   ]
  },
  {
   "cell_type": "markdown",
   "metadata": {},
   "source": [
    "Extracting and Transforming the fires reported data"
   ]
  },
  {
   "cell_type": "code",
   "execution_count": null,
   "metadata": {},
   "outputs": [],
   "source": [
    "#Load csv\n",
    "file = 'Resources/Fires_Reported_2019_YTD.csv'\n",
    "df1 = pd.read_csv(file)"
   ]
  },
  {
   "cell_type": "code",
   "execution_count": null,
   "metadata": {},
   "outputs": [],
   "source": [
    "#organizing data \n",
    "df2 = df1.loc[:,[\"inci_no\", \"alm_date\", \"number\", \"street\", \"st_type\", \"st_suffix\", \"latitude\", \"longitude\", \"inci_type\"]]\n"
   ]
  },
  {
   "cell_type": "code",
   "execution_count": null,
   "metadata": {},
   "outputs": [],
   "source": [
    "#transforming and joining street address columns\n",
    "df2['street_address'] = df2['street'] + \" \" + df2['st_type'] + \" \" + df2['st_suffix']\n"
   ]
  },
  {
   "cell_type": "code",
   "execution_count": null,
   "metadata": {},
   "outputs": [],
   "source": [
    "#dropping the \"19-\" from incident number column\n",
    "df2['inci_no'] = df2['inci_no'].str[3:]"
   ]
  },
  {
   "cell_type": "code",
   "execution_count": null,
   "metadata": {},
   "outputs": [],
   "source": [
    "#dropping timestamp from datetime column\n",
    "df2['alm_date'] = pd.to_datetime(df2['alm_date'])\n",
    "df2['date'] = df2['alm_date'].dt.date"
   ]
  },
  {
   "cell_type": "code",
   "execution_count": null,
   "metadata": {},
   "outputs": [],
   "source": [
    "#renaming columns to match database table\n",
    "df3 = df2.rename(columns = {'inci_no': 'incident_number', 'number': 'street_number', 'inci_type': 'incident_type', 'latitude': 'latitude', 'longitude': 'longitude',})\n",
    "df3.head()"
   ]
  },
  {
   "cell_type": "code",
   "execution_count": null,
   "metadata": {},
   "outputs": [],
   "source": [
    "#reorganizing columns to match database table\n",
    "fires_reported_df = df3[['incident_number', 'date', 'incident_type', 'street_number', 'street_address', 'latitude', 'longitude']]\n",
    "fires_reported_df.head()"
   ]
  },
  {
   "cell_type": "code",
   "execution_count": null,
   "metadata": {},
   "outputs": [],
   "source": [
    "#loading dataframe into database table\n",
    "fires_reported_df.to_sql(name='fires_reported', con=engine, if_exists='append', index=False)"
   ]
  },
  {
   "cell_type": "code",
   "execution_count": null,
   "metadata": {},
   "outputs": [],
   "source": []
  }
 ],
 "metadata": {
  "kernelspec": {
   "display_name": "Python 3",
   "language": "python",
   "name": "python3"
  },
  "language_info": {
   "codemirror_mode": {
    "name": "ipython",
    "version": 3
   },
   "file_extension": ".py",
   "mimetype": "text/x-python",
   "name": "python",
   "nbconvert_exporter": "python",
   "pygments_lexer": "ipython3",
   "version": "3.6.10"
  }
 },
 "nbformat": 4,
 "nbformat_minor": 4
}
