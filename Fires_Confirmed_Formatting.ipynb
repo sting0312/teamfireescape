{
 "cells": [
  {
   "cell_type": "markdown",
   "metadata": {},
   "source": [
    "Group 9 Project \n",
    "Riley Fritz, Sofanit Habte, Robert Boulka\n",
    "Loading transformed Data from 2019 confirmed fires in the city of Minneapolis"
   ]
  },
  {
   "cell_type": "code",
   "execution_count": 1,
   "metadata": {},
   "outputs": [],
   "source": [
    "#importing dependencies\n",
    "import pandas as pd\n",
    "from sqlalchemy import create_engine\n",
    "from config import password"
   ]
  },
  {
   "cell_type": "code",
   "execution_count": 2,
   "metadata": {},
   "outputs": [],
   "source": [
    "#making connection to SQL database\n",
    "rds_connection_string = \"postgres:{password}@localhost:5432/fire_db\"\n",
    "engine = create_engine(f'postgresql://{rds_connection_string}')"
   ]
  },
  {
   "cell_type": "code",
   "execution_count": 3,
   "metadata": {},
   "outputs": [],
   "source": [
    "conn = engine.connect()\n",
    "#session = Session(bind=engine)"
   ]
  },
  {
   "cell_type": "markdown",
   "metadata": {},
   "source": [
    "Extracting and Transforming the fires confirmed data"
   ]
  },
  {
   "cell_type": "code",
   "execution_count": 5,
   "metadata": {},
   "outputs": [],
   "source": [
    "#load csv\n",
    "file = 'Resources/Fires_Confirmed_2019.csv'\n",
    "df1 = pd.read_csv(file)"
   ]
  },
  {
   "cell_type": "code",
   "execution_count": 6,
   "metadata": {},
   "outputs": [],
   "source": [
    "#organizing data\n",
    "df2 = df1.loc[:,[\"inci_no\", \"alm_date\", \"number\", \"street\", \"st_type\", \"st_suffix\", \"latitude\", \"longitude\", \"inci_type\"]]"
   ]
  },
  {
   "cell_type": "code",
   "execution_count": 7,
   "metadata": {},
   "outputs": [],
   "source": [
    "#transforming and joining street address columns\n",
    "df2['street_address'] = df2['street'] + \" \" + df2['st_type'] + \" \" + df2['st_suffix']"
   ]
  },
  {
   "cell_type": "code",
   "execution_count": 8,
   "metadata": {},
   "outputs": [],
   "source": [
    "#dropping the \"19-\" from incident number column\n",
    "df2['inci_no'] = df2['inci_no'].str[3:]"
   ]
  },
  {
   "cell_type": "code",
   "execution_count": 9,
   "metadata": {},
   "outputs": [],
   "source": [
    "#dropping timestamp from datetime column\n",
    "df2['alm_date'] = pd.to_datetime(df2['alm_date'])\n",
    "df2['date'] = df2['alm_date'].dt.date"
   ]
  },
  {
   "cell_type": "code",
   "execution_count": 10,
   "metadata": {},
   "outputs": [
    {
     "data": {
      "text/html": [
       "<div>\n",
       "<style scoped>\n",
       "    .dataframe tbody tr th:only-of-type {\n",
       "        vertical-align: middle;\n",
       "    }\n",
       "\n",
       "    .dataframe tbody tr th {\n",
       "        vertical-align: top;\n",
       "    }\n",
       "\n",
       "    .dataframe thead th {\n",
       "        text-align: right;\n",
       "    }\n",
       "</style>\n",
       "<table border=\"1\" class=\"dataframe\">\n",
       "  <thead>\n",
       "    <tr style=\"text-align: right;\">\n",
       "      <th></th>\n",
       "      <th>incident_number</th>\n",
       "      <th>alm_date</th>\n",
       "      <th>street_number</th>\n",
       "      <th>street</th>\n",
       "      <th>st_type</th>\n",
       "      <th>st_suffix</th>\n",
       "      <th>latitude</th>\n",
       "      <th>longitude</th>\n",
       "      <th>incident_type</th>\n",
       "      <th>street_address</th>\n",
       "      <th>date</th>\n",
       "    </tr>\n",
       "  </thead>\n",
       "  <tbody>\n",
       "    <tr>\n",
       "      <th>0</th>\n",
       "      <td>0000150</td>\n",
       "      <td>2019-01-02</td>\n",
       "      <td>2433</td>\n",
       "      <td>5</td>\n",
       "      <td>AVE</td>\n",
       "      <td>S</td>\n",
       "      <td>44.958567</td>\n",
       "      <td>-93.268979</td>\n",
       "      <td>113</td>\n",
       "      <td>5                         AVE  S</td>\n",
       "      <td>2019-01-02</td>\n",
       "    </tr>\n",
       "    <tr>\n",
       "      <th>1</th>\n",
       "      <td>0000205</td>\n",
       "      <td>2019-01-02</td>\n",
       "      <td></td>\n",
       "      <td>Cedar</td>\n",
       "      <td>AVE</td>\n",
       "      <td>S</td>\n",
       "      <td>44.966616</td>\n",
       "      <td>-93.247251</td>\n",
       "      <td>131</td>\n",
       "      <td>Cedar                     AVE  S</td>\n",
       "      <td>2019-01-02</td>\n",
       "    </tr>\n",
       "    <tr>\n",
       "      <th>2</th>\n",
       "      <td>0000250</td>\n",
       "      <td>2019-01-02</td>\n",
       "      <td>810</td>\n",
       "      <td>Thornton</td>\n",
       "      <td>ST</td>\n",
       "      <td>SE</td>\n",
       "      <td>44.966156</td>\n",
       "      <td>-93.219234</td>\n",
       "      <td>113</td>\n",
       "      <td>Thornton                  ST   SE</td>\n",
       "      <td>2019-01-02</td>\n",
       "    </tr>\n",
       "    <tr>\n",
       "      <th>3</th>\n",
       "      <td>0000300</td>\n",
       "      <td>2019-01-03</td>\n",
       "      <td>1325</td>\n",
       "      <td>4</td>\n",
       "      <td>ST</td>\n",
       "      <td>SE</td>\n",
       "      <td>44.980903</td>\n",
       "      <td>-93.236813</td>\n",
       "      <td>251</td>\n",
       "      <td>4                         ST   SE</td>\n",
       "      <td>2019-01-03</td>\n",
       "    </tr>\n",
       "    <tr>\n",
       "      <th>4</th>\n",
       "      <td>0000342</td>\n",
       "      <td>2019-01-03</td>\n",
       "      <td></td>\n",
       "      <td>7</td>\n",
       "      <td>ST</td>\n",
       "      <td>S</td>\n",
       "      <td>44.966616</td>\n",
       "      <td>-93.247251</td>\n",
       "      <td>151</td>\n",
       "      <td>7                         ST   S</td>\n",
       "      <td>2019-01-03</td>\n",
       "    </tr>\n",
       "  </tbody>\n",
       "</table>\n",
       "</div>"
      ],
      "text/plain": [
       "  incident_number   alm_date street_number                     street st_type  \\\n",
       "0         0000150 2019-01-02      2433      5                            AVE    \n",
       "1         0000205 2019-01-02                Cedar                        AVE    \n",
       "2         0000250 2019-01-02      810       Thornton                     ST     \n",
       "3         0000300 2019-01-03      1325      4                            ST     \n",
       "4         0000342 2019-01-03                7                            ST     \n",
       "\n",
       "  st_suffix   latitude  longitude  incident_type  \\\n",
       "0        S   44.958567 -93.268979            113   \n",
       "1        S   44.966616 -93.247251            131   \n",
       "2        SE  44.966156 -93.219234            113   \n",
       "3        SE  44.980903 -93.236813            251   \n",
       "4        S   44.966616 -93.247251            151   \n",
       "\n",
       "                      street_address        date  \n",
       "0  5                         AVE  S   2019-01-02  \n",
       "1  Cedar                     AVE  S   2019-01-02  \n",
       "2  Thornton                  ST   SE  2019-01-02  \n",
       "3  4                         ST   SE  2019-01-03  \n",
       "4  7                         ST   S   2019-01-03  "
      ]
     },
     "execution_count": 10,
     "metadata": {},
     "output_type": "execute_result"
    }
   ],
   "source": [
    "#renaming columns to match database table\n",
    "df3 = df2.rename(columns = {'inci_no': 'incident_number', 'number': 'street_number', 'inci_type': 'incident_type', 'latitude': 'latitude', 'longitude': 'longitude',})\n",
    "df3.head()"
   ]
  },
  {
   "cell_type": "code",
   "execution_count": 11,
   "metadata": {},
   "outputs": [
    {
     "data": {
      "text/html": [
       "<div>\n",
       "<style scoped>\n",
       "    .dataframe tbody tr th:only-of-type {\n",
       "        vertical-align: middle;\n",
       "    }\n",
       "\n",
       "    .dataframe tbody tr th {\n",
       "        vertical-align: top;\n",
       "    }\n",
       "\n",
       "    .dataframe thead th {\n",
       "        text-align: right;\n",
       "    }\n",
       "</style>\n",
       "<table border=\"1\" class=\"dataframe\">\n",
       "  <thead>\n",
       "    <tr style=\"text-align: right;\">\n",
       "      <th></th>\n",
       "      <th>incident_number</th>\n",
       "      <th>date</th>\n",
       "      <th>incident_type</th>\n",
       "      <th>street_number</th>\n",
       "      <th>street_address</th>\n",
       "      <th>latitude</th>\n",
       "      <th>longitude</th>\n",
       "    </tr>\n",
       "  </thead>\n",
       "  <tbody>\n",
       "    <tr>\n",
       "      <th>0</th>\n",
       "      <td>0000150</td>\n",
       "      <td>2019-01-02</td>\n",
       "      <td>113</td>\n",
       "      <td>2433</td>\n",
       "      <td>5                         AVE  S</td>\n",
       "      <td>44.958567</td>\n",
       "      <td>-93.268979</td>\n",
       "    </tr>\n",
       "    <tr>\n",
       "      <th>1</th>\n",
       "      <td>0000205</td>\n",
       "      <td>2019-01-02</td>\n",
       "      <td>131</td>\n",
       "      <td></td>\n",
       "      <td>Cedar                     AVE  S</td>\n",
       "      <td>44.966616</td>\n",
       "      <td>-93.247251</td>\n",
       "    </tr>\n",
       "    <tr>\n",
       "      <th>2</th>\n",
       "      <td>0000250</td>\n",
       "      <td>2019-01-02</td>\n",
       "      <td>113</td>\n",
       "      <td>810</td>\n",
       "      <td>Thornton                  ST   SE</td>\n",
       "      <td>44.966156</td>\n",
       "      <td>-93.219234</td>\n",
       "    </tr>\n",
       "    <tr>\n",
       "      <th>3</th>\n",
       "      <td>0000300</td>\n",
       "      <td>2019-01-03</td>\n",
       "      <td>251</td>\n",
       "      <td>1325</td>\n",
       "      <td>4                         ST   SE</td>\n",
       "      <td>44.980903</td>\n",
       "      <td>-93.236813</td>\n",
       "    </tr>\n",
       "    <tr>\n",
       "      <th>4</th>\n",
       "      <td>0000342</td>\n",
       "      <td>2019-01-03</td>\n",
       "      <td>151</td>\n",
       "      <td></td>\n",
       "      <td>7                         ST   S</td>\n",
       "      <td>44.966616</td>\n",
       "      <td>-93.247251</td>\n",
       "    </tr>\n",
       "  </tbody>\n",
       "</table>\n",
       "</div>"
      ],
      "text/plain": [
       "  incident_number        date  incident_type street_number  \\\n",
       "0         0000150  2019-01-02            113      2433       \n",
       "1         0000205  2019-01-02            131                 \n",
       "2         0000250  2019-01-02            113      810        \n",
       "3         0000300  2019-01-03            251      1325       \n",
       "4         0000342  2019-01-03            151                 \n",
       "\n",
       "                      street_address   latitude  longitude  \n",
       "0  5                         AVE  S   44.958567 -93.268979  \n",
       "1  Cedar                     AVE  S   44.966616 -93.247251  \n",
       "2  Thornton                  ST   SE  44.966156 -93.219234  \n",
       "3  4                         ST   SE  44.980903 -93.236813  \n",
       "4  7                         ST   S   44.966616 -93.247251  "
      ]
     },
     "execution_count": 11,
     "metadata": {},
     "output_type": "execute_result"
    }
   ],
   "source": [
    "#reorganizing columns to match database table\n",
    "fires_reported_df = df3[['incident_number', 'date', 'incident_type', 'street_number', 'street_address', 'latitude', 'longitude']]\n",
    "fires_reported_df.head()"
   ]
  },
  {
   "cell_type": "code",
   "execution_count": 12,
   "metadata": {},
   "outputs": [],
   "source": [
    "#loading dataframe into database table\n",
    "fires_reported_df.to_sql(name='fires_confirmed', con=engine, if_exists='append', index=False)"
   ]
  }
 ],
 "metadata": {
  "kernelspec": {
   "display_name": "Python 3",
   "language": "python",
   "name": "python3"
  },
  "language_info": {
   "codemirror_mode": {
    "name": "ipython",
    "version": 3
   },
   "file_extension": ".py",
   "mimetype": "text/x-python",
   "name": "python",
   "nbconvert_exporter": "python",
   "pygments_lexer": "ipython3",
   "version": "3.6.10"
  }
 },
 "nbformat": 4,
 "nbformat_minor": 4
}
